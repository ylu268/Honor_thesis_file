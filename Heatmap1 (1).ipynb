{
  "nbformat": 4,
  "nbformat_minor": 0,
  "metadata": {
    "colab": {
      "name": "Heatmap1.ipynb",
      "provenance": [],
      "collapsed_sections": []
    },
    "kernelspec": {
      "name": "python3",
      "display_name": "Python 3"
    },
    "language_info": {
      "name": "python"
    },
    "accelerator": "GPU"
  },
  "cells": [
    {
      "cell_type": "code",
      "metadata": {
        "id": "-Ozh6Xk6Y1iZ"
      },
      "source": [
        "import numpy as np\n",
        "import pandas as pd\n",
        "import math\n",
        "import matplotlib\n",
        "import matplotlib.pyplot as plt\n",
        "import matplotlib.gridspec as gridspec\n",
        "import seaborn as sns\n",
        "sns.set(style=\"ticks\", color_codes=True)"
      ],
      "execution_count": null,
      "outputs": []
    },
    {
      "cell_type": "code",
      "metadata": {
        "id": "mIMZYzKXIguf"
      },
      "source": [
        "# import the SNP csv file - of course, the path/name will be whatever you choose\n",
        "dfS = pd.read_csv('gisaid_georgia_0322-1231-modified.csv')\n",
        "dfG=dfS.sort_values(by=['month'])\n",
        "# visualize the first 5 lines of the SNP dataframe to make sure everything looks ok\n",
        "dfS.head()\n"
      ],
      "execution_count": null,
      "outputs": []
    },
    {
      "cell_type": "code",
      "metadata": {
        "id": "z7MMy1hjIgzN"
      },
      "source": [
        "dfP=dfS.groupby('Lineage').month.value_counts().unstack().fillna(0)\n",
        "dfP\n",
        "\n",
        "dfsum=dfP.sum()\n",
        "list(dfP)"
      ],
      "execution_count": null,
      "outputs": []
    },
    {
      "cell_type": "code",
      "metadata": {
        "id": "Rvv0r7lOHntk"
      },
      "source": [
        "for i in list(dfP):\n",
        "  dfP[[i]]=dfP[[i]]/dfsum[[i]]\n",
        "\n",
        "dfP"
      ],
      "execution_count": null,
      "outputs": []
    },
    {
      "cell_type": "code",
      "source": [
        "dfP.iloc[2].name\n",
        "len(dfP.index)"
      ],
      "metadata": {
        "id": "YRG0WnttV_m7"
      },
      "execution_count": null,
      "outputs": []
    },
    {
      "cell_type": "code",
      "source": [
        "reflist=[]\n",
        "for j in range(len(dfP)):\n",
        "  count=0\n",
        "  for k in list(dfP):\n",
        "    if (dfP.iloc[j][[k]]<=0.001).bool():\n",
        "      count=count+1\n",
        "  if count == 10:\n",
        "   reflist=reflist+ [dfP.iloc[j].name]\n",
        "\n",
        "reflist\n",
        "    \n"
      ],
      "metadata": {
        "id": "SD4adH3ASW97"
      },
      "execution_count": null,
      "outputs": []
    },
    {
      "cell_type": "code",
      "source": [
        "dfPm=dfP.drop(reflist+['None'])\n",
        "\n"
      ],
      "metadata": {
        "id": "1rRtSucXKaEx"
      },
      "execution_count": null,
      "outputs": []
    },
    {
      "cell_type": "code",
      "metadata": {
        "id": "o7W8Dd-VIzgQ"
      },
      "source": [
        "print(dfPm)\n",
        "plt.style.use('seaborn-white')\n",
        "fig, axs=plt.subplots(figsize=(30,30))\n",
        "heatmp=dfPm\n",
        "sns.heatmap(heatmp,cmap=\"coolwarm\", annot=False, fmt=\".0f\" )"
      ],
      "execution_count": null,
      "outputs": []
    },
    {
      "cell_type": "code",
      "source": [
        "dfPm"
      ],
      "metadata": {
        "id": "_-JRil_oB9Dg"
      },
      "execution_count": null,
      "outputs": []
    },
    {
      "cell_type": "code",
      "source": [
        ""
      ],
      "metadata": {
        "id": "wTY4GKI1vlGG"
      },
      "execution_count": null,
      "outputs": []
    },
    {
      "cell_type": "code",
      "metadata": {
        "id": "mKsB9WHsOozV"
      },
      "source": [
        ""
      ],
      "execution_count": null,
      "outputs": []
    }
  ]
}